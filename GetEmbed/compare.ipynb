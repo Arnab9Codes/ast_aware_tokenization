{
 "cells": [
  {
   "cell_type": "code",
   "execution_count": 2,
   "metadata": {},
   "outputs": [],
   "source": [
    "import numpy as np\n",
    "import pickle"
   ]
  },
  {
   "cell_type": "code",
   "execution_count": 8,
   "metadata": {},
   "outputs": [],
   "source": [
    "with open('./euclids_only_nlp.pkl', 'rb') as f:\n",
    "    euclid_nlp = pickle.load(f)\n",
    "with open('./cosine_only_nlp.pkl', 'rb') as f:\n",
    "    cosine_nlp = pickle.load(f)\n",
    "with open('./dot_only_nlp.pkl', 'rb') as f:\n",
    "    dot_nlp = pickle.load(f)\n",
    "with open('./manhattans_only_nlp.pkl', 'rb') as f:\n",
    "    manhattan_nlp = pickle.load(f)"
   ]
  },
  {
   "cell_type": "code",
   "execution_count": 9,
   "metadata": {},
   "outputs": [],
   "source": [
    "with open('./euclids_combined.pkl', 'rb') as f:\n",
    "    euclid_combined = pickle.load(f)\n",
    "with open('./cosines_combined.pkl', 'rb') as f:\n",
    "    cosine_combined = pickle.load(f)\n",
    "with open('./dots_combined.pkl', 'rb') as f:\n",
    "    dot_combined = pickle.load(f)\n",
    "with open('./manhattans_combined.pkl', 'rb') as f:\n",
    "    manhattan_combined = pickle.load(f)"
   ]
  },
  {
   "cell_type": "code",
   "execution_count": 20,
   "metadata": {},
   "outputs": [],
   "source": [
    "def compare_euclid(euclid_nlp, euclid_combined):\n",
    "    '''\n",
    "    inputs are lists of lists (88,100)\n",
    "    '''\n",
    "    total=88*100\n",
    "    count=0\n",
    "\n",
    "    for i in range(88):\n",
    "        for j in range(100):\n",
    "            if (euclid_combined[i][j]<euclid_nlp[i][j]): \n",
    "                count=count+1\n",
    "\n",
    "    return count/total\n",
    "\n",
    "def compare_cosine(cosine_nlp, cosine_combined):\n",
    "    '''\n",
    "    inputs are lists of lists (88,100)\n",
    "    '''\n",
    "    total=88*100\n",
    "    count=0\n",
    "\n",
    "    for i in range(88):\n",
    "        for j in range(100):\n",
    "            if (cosine_combined[i][j]>cosine_nlp[i][j]): \n",
    "                count=count+1\n",
    "\n",
    "    return count/total\n",
    "\n",
    "def compare_dot(dot_nlp, dot_combined):\n",
    "    '''\n",
    "    inputs are lists of lists (88,100)\n",
    "    '''\n",
    "    total=88*100\n",
    "    count=0\n",
    "\n",
    "    for i in range(88):\n",
    "        for j in range(100):\n",
    "            if (dot_combined[i][j]>dot_nlp[i][j]): \n",
    "                count=count+1\n",
    "\n",
    "    return count/total\n",
    "\n",
    "def compare_manhattan(manhattan_nlp, manhattan_combined):\n",
    "    '''\n",
    "    inputs are lists of lists (88,100)\n",
    "    '''\n",
    "    total=88*100\n",
    "    count=0\n",
    "\n",
    "    for i in range(88):\n",
    "        for j in range(100):\n",
    "            if (manhattan_combined[i][j]>manhattan_nlp[i][j]): \n",
    "                count=count+1\n",
    "\n",
    "    return count/total\n"
   ]
  },
  {
   "cell_type": "code",
   "execution_count": 19,
   "metadata": {},
   "outputs": [
    {
     "name": "stdout",
     "output_type": "stream",
     "text": [
      "0.45443181818181816\n",
      "0.6689772727272727\n",
      "0.9764772727272727\n",
      "0.5585227272727272\n"
     ]
    }
   ],
   "source": [
    "print(compare_euclid(euclid_nlp, euclid_combined))\n",
    "print(compare_cosine(cosine_nlp, cosine_combined)) \n",
    "print(compare_dot(dot_nlp, dot_combined))\n",
    "print(compare_manhattan(manhattan_nlp, manhattan_combined))"
   ]
  },
  {
   "cell_type": "code",
   "execution_count": 22,
   "metadata": {},
   "outputs": [
    {
     "name": "stdout",
     "output_type": "stream",
     "text": [
      "0.4486363636363636\n",
      "0.6652272727272728\n",
      "0.9764772727272727\n",
      "0.5527272727272727\n"
     ]
    }
   ],
   "source": [
    "# change to equal to find equal or greater than\n",
    "print(compare_euclid(euclid_nlp, euclid_combined))\n",
    "print(compare_cosine(cosine_nlp, cosine_combined)) \n",
    "print(compare_dot(dot_nlp, dot_combined))\n",
    "print(compare_manhattan(manhattan_nlp, manhattan_combined))"
   ]
  },
  {
   "cell_type": "code",
   "execution_count": 23,
   "metadata": {},
   "outputs": [],
   "source": [
    "def average(l):\n",
    "    # expecting list of lists of size [88x100]\n",
    "    \n",
    "    sum=0\n",
    "    for i in range(88):\n",
    "        for j in range(100):\n",
    "            sum+=l[i][j]\n",
    "\n",
    "    return sum/8800\n",
    "    "
   ]
  },
  {
   "cell_type": "code",
   "execution_count": 24,
   "metadata": {},
   "outputs": [
    {
     "name": "stdout",
     "output_type": "stream",
     "text": [
      "euclid nlp: 2.749749180492522\n",
      "euclid combined: 3.485553128126247\n"
     ]
    }
   ],
   "source": [
    "print('euclid nlp:',average(euclid_nlp))\n",
    "print('euclid combined:',average(euclid_combined))"
   ]
  },
  {
   "cell_type": "code",
   "execution_count": 25,
   "metadata": {},
   "outputs": [
    {
     "name": "stdout",
     "output_type": "stream",
     "text": [
      "cosine nlp: 0.9300806118852712\n",
      "cosine combined: 0.9341643811381337\n"
     ]
    }
   ],
   "source": [
    "print('cosine nlp:',average(cosine_nlp))\n",
    "print('cosine combined:',average(cosine_combined))"
   ]
  },
  {
   "cell_type": "code",
   "execution_count": 26,
   "metadata": {},
   "outputs": [
    {
     "name": "stdout",
     "output_type": "stream",
     "text": [
      "dot nlp: 56.99263018781489\n",
      "dot combined: 110.57846631781621\n"
     ]
    }
   ],
   "source": [
    "print('dot nlp:',average(dot_nlp))\n",
    "print('dot combined:',average(dot_combined))"
   ]
  },
  {
   "cell_type": "code",
   "execution_count": 27,
   "metadata": {},
   "outputs": [
    {
     "name": "stdout",
     "output_type": "stream",
     "text": [
      "manhattan nlp: 12.388447032391348\n",
      "manhattan combined: 15.968897231221622\n"
     ]
    }
   ],
   "source": [
    "print('manhattan nlp:',average(manhattan_nlp))\n",
    "print('manhattan combined:',average(manhattan_combined))"
   ]
  },
  {
   "cell_type": "code",
   "execution_count": null,
   "metadata": {},
   "outputs": [],
   "source": []
  }
 ],
 "metadata": {
  "kernelspec": {
   "display_name": "HF",
   "language": "python",
   "name": "python3"
  },
  "language_info": {
   "codemirror_mode": {
    "name": "ipython",
    "version": 3
   },
   "file_extension": ".py",
   "mimetype": "text/x-python",
   "name": "python",
   "nbconvert_exporter": "python",
   "pygments_lexer": "ipython3",
   "version": "3.8.10"
  },
  "orig_nbformat": 4
 },
 "nbformat": 4,
 "nbformat_minor": 2
}
